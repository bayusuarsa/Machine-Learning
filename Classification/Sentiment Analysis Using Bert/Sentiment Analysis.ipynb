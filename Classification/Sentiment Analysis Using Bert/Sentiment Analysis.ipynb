{
 "cells": [
  {
   "cell_type": "markdown",
   "id": "afd2abe9",
   "metadata": {},
   "source": [
    "# 1. Install and Import Dependecies"
   ]
  },
  {
   "cell_type": "code",
   "execution_count": 1,
   "id": "04092ebc",
   "metadata": {},
   "outputs": [],
   "source": [
    "from transformers import AutoTokenizer, AutoModelForSequenceClassification\n",
    "import torch\n",
    "import requests\n",
    "from bs4 import BeautifulSoup\n",
    "import re"
   ]
  },
  {
   "cell_type": "markdown",
   "id": "0ae118a8",
   "metadata": {},
   "source": [
    "# 2. Instantiate Model"
   ]
  },
  {
   "cell_type": "code",
   "execution_count": 3,
   "id": "da4bdca2",
   "metadata": {},
   "outputs": [
    {
     "data": {
      "application/json": {
       "ascii": false,
       "bar_format": null,
       "colour": null,
       "elapsed": 0.01716756820678711,
       "initial": 0,
       "n": 0,
       "ncols": null,
       "nrows": 29,
       "postfix": null,
       "prefix": "Downloading pytorch_model.bin",
       "rate": null,
       "total": 669491321,
       "unit": "B",
       "unit_divisor": 1000,
       "unit_scale": true
      },
      "application/vnd.jupyter.widget-view+json": {
       "model_id": "c549277cfc274f29ab48001907da5747",
       "version_major": 2,
       "version_minor": 0
      },
      "text/plain": [
       "Downloading pytorch_model.bin:   0%|          | 0.00/669M [00:00<?, ?B/s]"
      ]
     },
     "metadata": {},
     "output_type": "display_data"
    }
   ],
   "source": [
    "tokenizer = AutoTokenizer.from_pretrained('nlptown/bert-base-multilingual-uncased-sentiment')\n",
    "model = AutoModelForSequenceClassification.from_pretrained('nlptown/bert-base-multilingual-uncased-sentiment')\n"
   ]
  },
  {
   "cell_type": "code",
   "execution_count": 4,
   "id": "7fedd2cf",
   "metadata": {},
   "outputs": [
    {
     "data": {
      "text/plain": [
       "BertTokenizerFast(name_or_path='nlptown/bert-base-multilingual-uncased-sentiment', vocab_size=105879, model_max_length=512, is_fast=True, padding_side='right', truncation_side='right', special_tokens={'unk_token': '[UNK]', 'sep_token': '[SEP]', 'pad_token': '[PAD]', 'cls_token': '[CLS]', 'mask_token': '[MASK]'}, clean_up_tokenization_spaces=True),  added_tokens_decoder={\n",
       "\t0: AddedToken(\"[PAD]\", rstrip=False, lstrip=False, single_word=False, normalized=False, special=True),\n",
       "\t100: AddedToken(\"[UNK]\", rstrip=False, lstrip=False, single_word=False, normalized=False, special=True),\n",
       "\t101: AddedToken(\"[CLS]\", rstrip=False, lstrip=False, single_word=False, normalized=False, special=True),\n",
       "\t102: AddedToken(\"[SEP]\", rstrip=False, lstrip=False, single_word=False, normalized=False, special=True),\n",
       "\t103: AddedToken(\"[MASK]\", rstrip=False, lstrip=False, single_word=False, normalized=False, special=True),\n",
       "}"
      ]
     },
     "execution_count": 4,
     "metadata": {},
     "output_type": "execute_result"
    }
   ],
   "source": [
    "tokenizer"
   ]
  },
  {
   "cell_type": "code",
   "execution_count": 5,
   "id": "7f4604f9",
   "metadata": {},
   "outputs": [
    {
     "data": {
      "text/plain": [
       "BertForSequenceClassification(\n",
       "  (bert): BertModel(\n",
       "    (embeddings): BertEmbeddings(\n",
       "      (word_embeddings): Embedding(105879, 768, padding_idx=0)\n",
       "      (position_embeddings): Embedding(512, 768)\n",
       "      (token_type_embeddings): Embedding(2, 768)\n",
       "      (LayerNorm): LayerNorm((768,), eps=1e-12, elementwise_affine=True)\n",
       "      (dropout): Dropout(p=0.1, inplace=False)\n",
       "    )\n",
       "    (encoder): BertEncoder(\n",
       "      (layer): ModuleList(\n",
       "        (0-11): 12 x BertLayer(\n",
       "          (attention): BertAttention(\n",
       "            (self): BertSelfAttention(\n",
       "              (query): Linear(in_features=768, out_features=768, bias=True)\n",
       "              (key): Linear(in_features=768, out_features=768, bias=True)\n",
       "              (value): Linear(in_features=768, out_features=768, bias=True)\n",
       "              (dropout): Dropout(p=0.1, inplace=False)\n",
       "            )\n",
       "            (output): BertSelfOutput(\n",
       "              (dense): Linear(in_features=768, out_features=768, bias=True)\n",
       "              (LayerNorm): LayerNorm((768,), eps=1e-12, elementwise_affine=True)\n",
       "              (dropout): Dropout(p=0.1, inplace=False)\n",
       "            )\n",
       "          )\n",
       "          (intermediate): BertIntermediate(\n",
       "            (dense): Linear(in_features=768, out_features=3072, bias=True)\n",
       "            (intermediate_act_fn): GELUActivation()\n",
       "          )\n",
       "          (output): BertOutput(\n",
       "            (dense): Linear(in_features=3072, out_features=768, bias=True)\n",
       "            (LayerNorm): LayerNorm((768,), eps=1e-12, elementwise_affine=True)\n",
       "            (dropout): Dropout(p=0.1, inplace=False)\n",
       "          )\n",
       "        )\n",
       "      )\n",
       "    )\n",
       "    (pooler): BertPooler(\n",
       "      (dense): Linear(in_features=768, out_features=768, bias=True)\n",
       "      (activation): Tanh()\n",
       "    )\n",
       "  )\n",
       "  (dropout): Dropout(p=0.1, inplace=False)\n",
       "  (classifier): Linear(in_features=768, out_features=5, bias=True)\n",
       ")"
      ]
     },
     "execution_count": 5,
     "metadata": {},
     "output_type": "execute_result"
    }
   ],
   "source": [
    "model"
   ]
  },
  {
   "cell_type": "markdown",
   "id": "37adbf1b",
   "metadata": {},
   "source": [
    "# 3. Encode and Calculate Sentiment"
   ]
  },
  {
   "cell_type": "code",
   "execution_count": 8,
   "id": "622be066",
   "metadata": {},
   "outputs": [],
   "source": [
    "tokens = tokenizer.encode('it was good, sex is awsome', return_tensors='pt')"
   ]
  },
  {
   "cell_type": "code",
   "execution_count": 9,
   "id": "2ded98bc",
   "metadata": {},
   "outputs": [],
   "source": [
    "result = model(tokens)"
   ]
  },
  {
   "cell_type": "code",
   "execution_count": 10,
   "id": "46f21ba8",
   "metadata": {},
   "outputs": [
    {
     "data": {
      "text/plain": [
       "tensor([[-1.5759, -0.8759,  0.8581,  1.1086,  0.3553]],\n",
       "       grad_fn=<AddmmBackward0>)"
      ]
     },
     "execution_count": 10,
     "metadata": {},
     "output_type": "execute_result"
    }
   ],
   "source": [
    "result.logits"
   ]
  },
  {
   "cell_type": "code",
   "execution_count": 11,
   "id": "6531945a",
   "metadata": {},
   "outputs": [
    {
     "data": {
      "text/plain": [
       "4"
      ]
     },
     "execution_count": 11,
     "metadata": {},
     "output_type": "execute_result"
    }
   ],
   "source": [
    "int(torch.argmax(result.logits))+1"
   ]
  },
  {
   "cell_type": "markdown",
   "id": "5eaa5b20",
   "metadata": {},
   "source": [
    "# 4. Collect Reviews"
   ]
  },
  {
   "cell_type": "code",
   "execution_count": 12,
   "id": "9e02954b",
   "metadata": {},
   "outputs": [],
   "source": [
    "r = requests.get('https://www.yelp.com/biz/marufuku-ramen-san-francisco-5')\n",
    "soup = BeautifulSoup(r.text, 'html.parser')\n",
    "regex = re.compile('.*comment.*')\n",
    "results = soup.find_all('p', {'class':regex})\n",
    "reviews = [result.text for result in results]"
   ]
  },
  {
   "cell_type": "code",
   "execution_count": 13,
   "id": "d012143a",
   "metadata": {},
   "outputs": [
    {
     "data": {
      "text/plain": [
       "[<p class=\"comment__09f24__D0cxf css-qgunke\"><span class=\"raw__09f24__T4Ezm\" lang=\"en\">The ramen was amazing. The wait was a while but it was definitely  worth the wait.  Looking forward to going back.</span></p>,\n",
       " <p class=\"comment__09f24__D0cxf css-qgunke\"><span class=\"raw__09f24__T4Ezm\" lang=\"en\">Great ramen, fast and quick service. Inside of the mall but really cool shops nearby.</span></p>,\n",
       " <p class=\"comment__09f24__D0cxf css-qgunke\"><span class=\"raw__09f24__T4Ezm\" lang=\"en\">Today was the second time I've been in this location Had an amazing time <br/>The staff was on point Food was great <br/>Got to hit up the one in Oakland <br/><br/>Thanks</span></p>,\n",
       " <p class=\"comment__09f24__D0cxf css-qgunke\"><span class=\"raw__09f24__T4Ezm\" lang=\"en\">I go here very frequently. The food is fantastic. The wait times are not too bad. The menu changes ever-so-slightly every once in awhile, which is nice (they now offer gluten free noodles, yay!). <br/><br/>More recently, however, I have brought guests visiting SF and almost every time it seems like the staff is trying to rush us out. <br/><br/>As soon as we sit down, there a three people coming by within the first 5 minutes to take our order. It feels a little suffocating. <br/><br/>Multiple times while I've been enjoying lunch and dinner with one of my guests, they've tried to take our dishes while we're clearly still eating - we just came up for air to talk. In fact, last time I was in, they tried to make us pay while we were still eating and I kindly told the server we were still eating and we'd pay after. It's a bit much and makes the experience eating there not enjoyable.</span></p>,\n",
       " <p class=\"comment__09f24__D0cxf truncated__09f24__IiW9r css-qgunke\"><span class=\"raw__09f24__T4Ezm\" lang=\"en\">Some of the best ramen I've had. My partner and I come here once a week. Don't be fooled by the long wait times, they get people in and out faster than you'd expect. The staff is very nice and the food comes out very quickly.</span></p>,\n",
       " <p class=\"comment__09f24__D0cxf css-qgunke\"><span class=\"raw__09f24__T4Ezm\" lang=\"en\">I came here for a weekday night dinner and most of the tables were filled. The wait wasn't too long though (15ish minutes) and the servers are really efficient. <br/><br/>I got the Hakata Tonkotsu which was just the right amount of savory without being too heavy. I also love a good, gooey soft-boiled egg.</span></p>,\n",
       " <p class=\"comment__09f24__D0cxf css-qgunke\"><span class=\"raw__09f24__T4Ezm\" lang=\"en\">I may be one of the outliers regarding this esteemed ramen shop. This place has been on my list for quite some time and finally got to try them this past weekend. <br/><br/>I like that there's a digital waitlist with texting capabilities to alert you when to come back to check-in. Everyone must be present before they seat you. My party of 3 arrived prime dinner time around 6pm and only waited about 20 minutes. <br/><br/>Many staff came by wanting to take our order. Throughout the meal, many staff came by to clear the table, ask if you need anything. However, this was in a way that made me feel like hurrying you up so that I can leave faster and slightly pretentious. Mind you, I'm a slow eater and like to enjoy the meal. I understand that the faster they turn tables, the more people will get served. Thus, bigger profits. What about the customer experience?<br/><br/>Anyway, our table ordered the tonkatsu ramen, the veggie ramen, and gyoza. The broth for the tonkatsu was pretty good, slightly creamy but not too much. The chasu pieces were really thin and tiny. The veggie ramen broth was too creamy, where it was thick. However, great that they didn't skimp on the veggies. The gyoza was a waste of money, no flavor/lackluster.<br/><br/>I'm glad I tried this place and probably don't need to visit again any time soon. Definitely open to trying them again in the future.<br/><br/>#40/2023</span></p>,\n",
       " <p class=\"comment__09f24__D0cxf css-qgunke\"><span class=\"raw__09f24__T4Ezm\" lang=\"en\">Join the Yelp waitlist through their tablet at the front. When they get too busy near closing time, they close the waitlist so be sure to come early especially on the weekends! I know they have a few locations, but this one is located on the second floor of the Japantown plaza near the kinokuniya bookstore. <br/><br/>The inside has quite a bit of seating but as to maximize seating, tables are close to each other so it may seem crowded. The staff here welcome you when you come in and round often to refill water and see how you're doing. <br/><br/>I enjoy getting the shishito peppers for an appetizer, they can be spicy depending on the batch of peppers. My go-to ramen is the Hakata Tonkatsu Ramen. The broth is rich and creamy. The noodles catch the broth and are cooked well. You can add more toppings for an additional charge. You can choose your spice level: no spice to extra spicy and they have spice powder on the side if you want to make it spicier.</span></p>,\n",
       " <p class=\"comment__09f24__D0cxf css-qgunke\"><span class=\"raw__09f24__T4Ezm\" lang=\"en\">Stopped by for lunch on a Friday and there was no wait. We got here at 11:50 and pleasantly surprised to find no lines!  <br/><br/>The ambiance for very nice and reminded me of Japan with the service and greetings. I had the Hakata DX which had the larger piece of pork. The broth was excellent and noodles just right. I got medium spicy and it wasn't that hot.</span></p>,\n",
       " <p class=\"comment__09f24__D0cxf css-qgunke\"><span class=\"raw__09f24__T4Ezm\" lang=\"en\">Delicious ramen and great service, what more can you ask for? Most of my group got the DX ramen and I got the spicy tataman with chicken. I love how accommodating they were with slight alterations with the dishes because the folks in my group had different allergies. The food came fast and it was delicious. I wouldn't mind going back again.</span></p>,\n",
       " <p class=\"comment__09f24__D0cxf css-qgunke\"><span class=\"raw__09f24__T4Ezm\" lang=\"en\">So if you ever see a crowd of people in front of a restaurant waiting for the next open table and wonder if it's worth it to join, if that restaurant is Marufuku Ramen, I encourage you to join.<br/><br/>Fortunately, to join, you just have to sign in with your name and number on a Yelp iPad waiting list. Then, when your table is ready, you'll get a text message with a link so you can see your place in line. Around four or five places from the top, you'll get a text to come back to the restaurant, where you'll be seated pretty quickly.<br/><br/>Although my wife has been to Marufuku dozens of times, this is my first visit, and it certainly won't be my last. After about a 45-minute wait on a Saturday night, we were treated to some of the most delicious Hakata-style ramen I've had in the city. We first ordered a couple of Sapporo draft beers ($6.75), a large sake ($9), and an order of Japanese-style fried chicken ($7) as well as the fried shishito ($6). Then, I ordered the Hakata Tonkotsu DX ($18.50), which means that it's like the regular Hakata Tonkotsu but bigger. And if that isn't big enough, you can always order extra toppings. Personally, I thought the menu serving was fine, but it's always nice to have options. My wife, having already eaten lunch at Marufuku, decided to go with the smaller Mentaiko Bowl ($5).<br/><br/>Ambiance is great - lot's of dark wood. Very much a reminder of traditional restaurants I've eaten at in Japan. Service was fantastic. Everyone is very nice and responsive when you need more water, extra toppings, or more chopsticks when one of yours inevitably falls on the floor. And don't worry about asking for the check. They're so busy that they will tactfully have you paid up before your last few bites so that they can turn your table over for the next eagerly waiting customer.<br/><br/>For sure, when visiting Japantown, give Marufuku a try. Just be sure you aren't starving when you arrive, because it may be another hour before you're seated - especially on weekend nights.</span></p>]"
      ]
     },
     "execution_count": 13,
     "metadata": {},
     "output_type": "execute_result"
    }
   ],
   "source": [
    "results"
   ]
  },
  {
   "cell_type": "code",
   "execution_count": 14,
   "id": "82fc6f40",
   "metadata": {},
   "outputs": [
    {
     "data": {
      "text/plain": [
       "['The ramen was amazing. The wait was a while but it was definitely  worth the wait.  Looking forward to going back.',\n",
       " 'Great ramen, fast and quick service. Inside of the mall but really cool shops nearby.',\n",
       " \"Today was the second time I've been in this location Had an amazing time The staff was on point Food was great Got to hit up the one in Oakland Thanks\",\n",
       " \"I go here very frequently. The food is fantastic. The wait times are not too bad. The menu changes ever-so-slightly every once in awhile, which is nice (they now offer gluten free noodles, yay!). More recently, however, I have brought guests visiting SF and almost every time it seems like the staff is trying to rush us out. As soon as we sit down, there a three people coming by within the first 5 minutes to take our order. It feels a little suffocating. Multiple times while I've been enjoying lunch and dinner with one of my guests, they've tried to take our dishes while we're clearly still eating - we just came up for air to talk. In fact, last time I was in, they tried to make us pay while we were still eating and I kindly told the server we were still eating and we'd pay after. It's a bit much and makes the experience eating there not enjoyable.\",\n",
       " \"Some of the best ramen I've had. My partner and I come here once a week. Don't be fooled by the long wait times, they get people in and out faster than you'd expect. The staff is very nice and the food comes out very quickly.\",\n",
       " \"I came here for a weekday night dinner and most of the tables were filled. The wait wasn't too long though (15ish minutes) and the servers are really efficient. I got the Hakata Tonkotsu which was just the right amount of savory without being too heavy. I also love a good, gooey soft-boiled egg.\",\n",
       " \"I may be one of the outliers regarding this esteemed ramen shop. This place has been on my list for quite some time and finally got to try them this past weekend. I like that there's a digital waitlist with texting capabilities to alert you when to come back to check-in. Everyone must be present before they seat you. My party of 3 arrived prime dinner time around 6pm and only waited about 20 minutes. Many staff came by wanting to take our order. Throughout the meal, many staff came by to clear the table, ask if you need anything. However, this was in a way that made me feel like hurrying you up so that I can leave faster and slightly pretentious. Mind you, I'm a slow eater and like to enjoy the meal. I understand that the faster they turn tables, the more people will get served. Thus, bigger profits. What about the customer experience?Anyway, our table ordered the tonkatsu ramen, the veggie ramen, and gyoza. The broth for the tonkatsu was pretty good, slightly creamy but not too much. The chasu pieces were really thin and tiny. The veggie ramen broth was too creamy, where it was thick. However, great that they didn't skimp on the veggies. The gyoza was a waste of money, no flavor/lackluster.I'm glad I tried this place and probably don't need to visit again any time soon. Definitely open to trying them again in the future.#40/2023\",\n",
       " \"Join the Yelp waitlist through their tablet at the front. When they get too busy near closing time, they close the waitlist so be sure to come early especially on the weekends! I know they have a few locations, but this one is located on the second floor of the Japantown plaza near the kinokuniya bookstore. The inside has quite a bit of seating but as to maximize seating, tables are close to each other so it may seem crowded. The staff here welcome you when you come in and round often to refill water and see how you're doing. I enjoy getting the shishito peppers for an appetizer, they can be spicy depending on the batch of peppers. My go-to ramen is the Hakata Tonkatsu Ramen. The broth is rich and creamy. The noodles catch the broth and are cooked well. You can add more toppings for an additional charge. You can choose your spice level: no spice to extra spicy and they have spice powder on the side if you want to make it spicier.\",\n",
       " \"Stopped by for lunch on a Friday and there was no wait. We got here at 11:50 and pleasantly surprised to find no lines!  The ambiance for very nice and reminded me of Japan with the service and greetings. I had the Hakata DX which had the larger piece of pork. The broth was excellent and noodles just right. I got medium spicy and it wasn't that hot.\",\n",
       " \"Delicious ramen and great service, what more can you ask for? Most of my group got the DX ramen and I got the spicy tataman with chicken. I love how accommodating they were with slight alterations with the dishes because the folks in my group had different allergies. The food came fast and it was delicious. I wouldn't mind going back again.\",\n",
       " \"So if you ever see a crowd of people in front of a restaurant waiting for the next open table and wonder if it's worth it to join, if that restaurant is Marufuku Ramen, I encourage you to join.Fortunately, to join, you just have to sign in with your name and number on a Yelp iPad waiting list. Then, when your table is ready, you'll get a text message with a link so you can see your place in line. Around four or five places from the top, you'll get a text to come back to the restaurant, where you'll be seated pretty quickly.Although my wife has been to Marufuku dozens of times, this is my first visit, and it certainly won't be my last. After about a 45-minute wait on a Saturday night, we were treated to some of the most delicious Hakata-style ramen I've had in the city. We first ordered a couple of Sapporo draft beers ($6.75), a large sake ($9), and an order of Japanese-style fried chicken ($7) as well as the fried shishito ($6). Then, I ordered the Hakata Tonkotsu DX ($18.50), which means that it's like the regular Hakata Tonkotsu but bigger. And if that isn't big enough, you can always order extra toppings. Personally, I thought the menu serving was fine, but it's always nice to have options. My wife, having already eaten lunch at Marufuku, decided to go with the smaller Mentaiko Bowl ($5).Ambiance is great - lot's of dark wood. Very much a reminder of traditional restaurants I've eaten at in Japan. Service was fantastic. Everyone is very nice and responsive when you need more water, extra toppings, or more chopsticks when one of yours inevitably falls on the floor. And don't worry about asking for the check. They're so busy that they will tactfully have you paid up before your last few bites so that they can turn your table over for the next eagerly waiting customer.For sure, when visiting Japantown, give Marufuku a try. Just be sure you aren't starving when you arrive, because it may be another hour before you're seated - especially on weekend nights.\"]"
      ]
     },
     "execution_count": 14,
     "metadata": {},
     "output_type": "execute_result"
    }
   ],
   "source": [
    "reviews"
   ]
  },
  {
   "cell_type": "markdown",
   "id": "5401e896",
   "metadata": {},
   "source": [
    "# 5. Load Reviews Into Dataframe and Score"
   ]
  },
  {
   "cell_type": "code",
   "execution_count": 15,
   "id": "1c3f54ed",
   "metadata": {},
   "outputs": [],
   "source": [
    "import numpy as np\n",
    "import pandas as pd"
   ]
  },
  {
   "cell_type": "code",
   "execution_count": 17,
   "id": "2f3ebf17",
   "metadata": {},
   "outputs": [
    {
     "data": {
      "text/plain": [
       "'The ramen was amazing. The wait was a while but it was definitely  worth the wait.  Looking forward to going back.'"
      ]
     },
     "execution_count": 17,
     "metadata": {},
     "output_type": "execute_result"
    }
   ],
   "source": [
    "df = pd.DataFrame(np.array(reviews), columns=['review'])\n",
    "df['review'].iloc[0]"
   ]
  },
  {
   "cell_type": "code",
   "execution_count": 18,
   "id": "956ca537",
   "metadata": {},
   "outputs": [
    {
     "data": {
      "text/html": [
       "<div>\n",
       "<style scoped>\n",
       "    .dataframe tbody tr th:only-of-type {\n",
       "        vertical-align: middle;\n",
       "    }\n",
       "\n",
       "    .dataframe tbody tr th {\n",
       "        vertical-align: top;\n",
       "    }\n",
       "\n",
       "    .dataframe thead th {\n",
       "        text-align: right;\n",
       "    }\n",
       "</style>\n",
       "<table border=\"1\" class=\"dataframe\">\n",
       "  <thead>\n",
       "    <tr style=\"text-align: right;\">\n",
       "      <th></th>\n",
       "      <th>review</th>\n",
       "    </tr>\n",
       "  </thead>\n",
       "  <tbody>\n",
       "    <tr>\n",
       "      <th>0</th>\n",
       "      <td>The ramen was amazing. The wait was a while bu...</td>\n",
       "    </tr>\n",
       "    <tr>\n",
       "      <th>1</th>\n",
       "      <td>Great ramen, fast and quick service. Inside of...</td>\n",
       "    </tr>\n",
       "    <tr>\n",
       "      <th>2</th>\n",
       "      <td>Today was the second time I've been in this lo...</td>\n",
       "    </tr>\n",
       "    <tr>\n",
       "      <th>3</th>\n",
       "      <td>I go here very frequently. The food is fantast...</td>\n",
       "    </tr>\n",
       "    <tr>\n",
       "      <th>4</th>\n",
       "      <td>Some of the best ramen I've had. My partner an...</td>\n",
       "    </tr>\n",
       "    <tr>\n",
       "      <th>5</th>\n",
       "      <td>I came here for a weekday night dinner and mos...</td>\n",
       "    </tr>\n",
       "    <tr>\n",
       "      <th>6</th>\n",
       "      <td>I may be one of the outliers regarding this es...</td>\n",
       "    </tr>\n",
       "    <tr>\n",
       "      <th>7</th>\n",
       "      <td>Join the Yelp waitlist through their tablet at...</td>\n",
       "    </tr>\n",
       "    <tr>\n",
       "      <th>8</th>\n",
       "      <td>Stopped by for lunch on a Friday and there was...</td>\n",
       "    </tr>\n",
       "    <tr>\n",
       "      <th>9</th>\n",
       "      <td>Delicious ramen and great service, what more c...</td>\n",
       "    </tr>\n",
       "    <tr>\n",
       "      <th>10</th>\n",
       "      <td>So if you ever see a crowd of people in front ...</td>\n",
       "    </tr>\n",
       "  </tbody>\n",
       "</table>\n",
       "</div>"
      ],
      "text/plain": [
       "                                               review\n",
       "0   The ramen was amazing. The wait was a while bu...\n",
       "1   Great ramen, fast and quick service. Inside of...\n",
       "2   Today was the second time I've been in this lo...\n",
       "3   I go here very frequently. The food is fantast...\n",
       "4   Some of the best ramen I've had. My partner an...\n",
       "5   I came here for a weekday night dinner and mos...\n",
       "6   I may be one of the outliers regarding this es...\n",
       "7   Join the Yelp waitlist through their tablet at...\n",
       "8   Stopped by for lunch on a Friday and there was...\n",
       "9   Delicious ramen and great service, what more c...\n",
       "10  So if you ever see a crowd of people in front ..."
      ]
     },
     "execution_count": 18,
     "metadata": {},
     "output_type": "execute_result"
    }
   ],
   "source": [
    "df"
   ]
  },
  {
   "cell_type": "code",
   "execution_count": 19,
   "id": "ff646681",
   "metadata": {},
   "outputs": [],
   "source": [
    "def sentiment_score(review):\n",
    "    tokens = tokenizer.encode(review, return_tensors='pt')\n",
    "    result = model(tokens)\n",
    "    return int(torch.argmax(result.logits))+1"
   ]
  },
  {
   "cell_type": "code",
   "execution_count": 20,
   "id": "42aad2c0",
   "metadata": {},
   "outputs": [
    {
     "data": {
      "text/plain": [
       "5"
      ]
     },
     "execution_count": 20,
     "metadata": {},
     "output_type": "execute_result"
    }
   ],
   "source": [
    "sentiment_score(df['review'].iloc[1])"
   ]
  },
  {
   "cell_type": "code",
   "execution_count": 21,
   "id": "897a0be5",
   "metadata": {},
   "outputs": [],
   "source": [
    "df['sentiment'] = df.review.apply(lambda x: sentiment_score(x[:512]))"
   ]
  },
  {
   "cell_type": "code",
   "execution_count": 22,
   "id": "c8fcc04e",
   "metadata": {},
   "outputs": [
    {
     "data": {
      "text/html": [
       "<div>\n",
       "<style scoped>\n",
       "    .dataframe tbody tr th:only-of-type {\n",
       "        vertical-align: middle;\n",
       "    }\n",
       "\n",
       "    .dataframe tbody tr th {\n",
       "        vertical-align: top;\n",
       "    }\n",
       "\n",
       "    .dataframe thead th {\n",
       "        text-align: right;\n",
       "    }\n",
       "</style>\n",
       "<table border=\"1\" class=\"dataframe\">\n",
       "  <thead>\n",
       "    <tr style=\"text-align: right;\">\n",
       "      <th></th>\n",
       "      <th>review</th>\n",
       "      <th>sentiment</th>\n",
       "    </tr>\n",
       "  </thead>\n",
       "  <tbody>\n",
       "    <tr>\n",
       "      <th>0</th>\n",
       "      <td>The ramen was amazing. The wait was a while bu...</td>\n",
       "      <td>4</td>\n",
       "    </tr>\n",
       "    <tr>\n",
       "      <th>1</th>\n",
       "      <td>Great ramen, fast and quick service. Inside of...</td>\n",
       "      <td>5</td>\n",
       "    </tr>\n",
       "    <tr>\n",
       "      <th>2</th>\n",
       "      <td>Today was the second time I've been in this lo...</td>\n",
       "      <td>5</td>\n",
       "    </tr>\n",
       "    <tr>\n",
       "      <th>3</th>\n",
       "      <td>I go here very frequently. The food is fantast...</td>\n",
       "      <td>3</td>\n",
       "    </tr>\n",
       "    <tr>\n",
       "      <th>4</th>\n",
       "      <td>Some of the best ramen I've had. My partner an...</td>\n",
       "      <td>5</td>\n",
       "    </tr>\n",
       "    <tr>\n",
       "      <th>5</th>\n",
       "      <td>I came here for a weekday night dinner and mos...</td>\n",
       "      <td>5</td>\n",
       "    </tr>\n",
       "    <tr>\n",
       "      <th>6</th>\n",
       "      <td>I may be one of the outliers regarding this es...</td>\n",
       "      <td>4</td>\n",
       "    </tr>\n",
       "    <tr>\n",
       "      <th>7</th>\n",
       "      <td>Join the Yelp waitlist through their tablet at...</td>\n",
       "      <td>4</td>\n",
       "    </tr>\n",
       "    <tr>\n",
       "      <th>8</th>\n",
       "      <td>Stopped by for lunch on a Friday and there was...</td>\n",
       "      <td>5</td>\n",
       "    </tr>\n",
       "    <tr>\n",
       "      <th>9</th>\n",
       "      <td>Delicious ramen and great service, what more c...</td>\n",
       "      <td>5</td>\n",
       "    </tr>\n",
       "    <tr>\n",
       "      <th>10</th>\n",
       "      <td>So if you ever see a crowd of people in front ...</td>\n",
       "      <td>3</td>\n",
       "    </tr>\n",
       "  </tbody>\n",
       "</table>\n",
       "</div>"
      ],
      "text/plain": [
       "                                               review  sentiment\n",
       "0   The ramen was amazing. The wait was a while bu...          4\n",
       "1   Great ramen, fast and quick service. Inside of...          5\n",
       "2   Today was the second time I've been in this lo...          5\n",
       "3   I go here very frequently. The food is fantast...          3\n",
       "4   Some of the best ramen I've had. My partner an...          5\n",
       "5   I came here for a weekday night dinner and mos...          5\n",
       "6   I may be one of the outliers regarding this es...          4\n",
       "7   Join the Yelp waitlist through their tablet at...          4\n",
       "8   Stopped by for lunch on a Friday and there was...          5\n",
       "9   Delicious ramen and great service, what more c...          5\n",
       "10  So if you ever see a crowd of people in front ...          3"
      ]
     },
     "execution_count": 22,
     "metadata": {},
     "output_type": "execute_result"
    }
   ],
   "source": [
    "df"
   ]
  },
  {
   "cell_type": "code",
   "execution_count": null,
   "id": "15011f8b",
   "metadata": {},
   "outputs": [],
   "source": []
  }
 ],
 "metadata": {
  "kernelspec": {
   "display_name": "Python 3 (ipykernel)",
   "language": "python",
   "name": "python3"
  },
  "language_info": {
   "codemirror_mode": {
    "name": "ipython",
    "version": 3
   },
   "file_extension": ".py",
   "mimetype": "text/x-python",
   "name": "python",
   "nbconvert_exporter": "python",
   "pygments_lexer": "ipython3",
   "version": "3.9.12"
  }
 },
 "nbformat": 4,
 "nbformat_minor": 5
}
